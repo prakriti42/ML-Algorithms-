{
 "cells": [
  {
   "cell_type": "markdown",
   "id": "b346e8e3",
   "metadata": {},
   "source": [
    "# Ordinary least Square"
   ]
  },
  {
   "cell_type": "markdown",
   "id": "d3490891",
   "metadata": {},
   "source": [
    "This notebook file consists of the implementation of OLS to determine the parameters in a simple linear regression."
   ]
  },
  {
   "cell_type": "markdown",
   "id": "1c6cdf9a",
   "metadata": {},
   "source": [
    "### Importing The Necessary Libraries"
   ]
  },
  {
   "cell_type": "code",
   "execution_count": 1,
   "id": "c94941f8",
   "metadata": {},
   "outputs": [],
   "source": [
    "import numpy as np\n",
    "import pandas as pd\n",
    "import seaborn as sns\n",
    "import matplotlib.pyplot as plt"
   ]
  },
  {
   "cell_type": "markdown",
   "id": "6fc97f39",
   "metadata": {},
   "source": [
    "#### For this task we are using a simple linear regression problem hence using a dataset that consists of one independent variable."
   ]
  },
  {
   "cell_type": "code",
   "execution_count": 5,
   "id": "9ac2474b",
   "metadata": {},
   "outputs": [
    {
     "name": "stdout",
     "output_type": "stream",
     "text": [
      "(30, 2)\n"
     ]
    },
    {
     "data": {
      "text/html": [
       "<div>\n",
       "<style scoped>\n",
       "    .dataframe tbody tr th:only-of-type {\n",
       "        vertical-align: middle;\n",
       "    }\n",
       "\n",
       "    .dataframe tbody tr th {\n",
       "        vertical-align: top;\n",
       "    }\n",
       "\n",
       "    .dataframe thead th {\n",
       "        text-align: right;\n",
       "    }\n",
       "</style>\n",
       "<table border=\"1\" class=\"dataframe\">\n",
       "  <thead>\n",
       "    <tr style=\"text-align: right;\">\n",
       "      <th></th>\n",
       "      <th>YearsExperience</th>\n",
       "      <th>Salary</th>\n",
       "    </tr>\n",
       "  </thead>\n",
       "  <tbody>\n",
       "    <tr>\n",
       "      <th>0</th>\n",
       "      <td>1.1</td>\n",
       "      <td>39343.0</td>\n",
       "    </tr>\n",
       "    <tr>\n",
       "      <th>1</th>\n",
       "      <td>1.3</td>\n",
       "      <td>46205.0</td>\n",
       "    </tr>\n",
       "    <tr>\n",
       "      <th>2</th>\n",
       "      <td>1.5</td>\n",
       "      <td>37731.0</td>\n",
       "    </tr>\n",
       "    <tr>\n",
       "      <th>3</th>\n",
       "      <td>2.0</td>\n",
       "      <td>43525.0</td>\n",
       "    </tr>\n",
       "    <tr>\n",
       "      <th>4</th>\n",
       "      <td>2.2</td>\n",
       "      <td>39891.0</td>\n",
       "    </tr>\n",
       "  </tbody>\n",
       "</table>\n",
       "</div>"
      ],
      "text/plain": [
       "   YearsExperience   Salary\n",
       "0              1.1  39343.0\n",
       "1              1.3  46205.0\n",
       "2              1.5  37731.0\n",
       "3              2.0  43525.0\n",
       "4              2.2  39891.0"
      ]
     },
     "execution_count": 5,
     "metadata": {},
     "output_type": "execute_result"
    }
   ],
   "source": [
    "db = pd.read_csv(\"Salary_Data.csv\")\n",
    "print(db.shape)\n",
    "db.head()"
   ]
  },
  {
   "cell_type": "markdown",
   "id": "39c6b5ae",
   "metadata": {},
   "source": [
    "### Forumale for calulation of $\\theta_0$ and $\\theta_1$ :\n",
    "using the given formula:\n",
    "\\begin{align}\n",
    "        \\mathbf{\\theta _1} = \\frac{\\sum_{i=0}^n(x_i-\\bar{x})(y_i-\\bar{y}) }{\\sum_{i=1}^n(x_i-\\bar{x})^2}.\n",
    "    \\end{align}\n",
    "$\\theta_o$ is an intercept and calculated as:\n",
    "\\begin{align}\n",
    "        \\mathbf{\\theta_o} = \\bar{y} - \\theta_1 \\bar{x}\n",
    "    \\end{align}"
   ]
  },
  {
   "cell_type": "markdown",
   "id": "ce311702",
   "metadata": {},
   "source": [
    "### Determining the Parameters  with OLS\n",
    "To find the values of $\\theta_o $ and $\\theta_1$ we first need to calculate the mean of X and Y"
   ]
  },
  {
   "cell_type": "code",
   "execution_count": 7,
   "id": "aa903796",
   "metadata": {},
   "outputs": [
    {
     "name": "stdout",
     "output_type": "stream",
     "text": [
      "Proceed\n"
     ]
    }
   ],
   "source": [
    "X = db[\"YearsExperience\"].values\n",
    "Y = db[\"Salary\"].values\n",
    "\n",
    "if X.shape == Y.shape :\n",
    "    print(\"Proceed\")\n",
    "else : \n",
    "    print(\"shape doesnt match\")"
   ]
  },
  {
   "cell_type": "markdown",
   "id": "77d58d69",
   "metadata": {},
   "source": [
    "### Using numpy to calculate the mean "
   ]
  },
  {
   "cell_type": "code",
   "execution_count": 8,
   "id": "fb87cbde",
   "metadata": {},
   "outputs": [],
   "source": [
    "Xmean = X.mean()\n",
    "Ymean = Y.mean ()"
   ]
  },
  {
   "cell_type": "markdown",
   "id": "f0977178",
   "metadata": {},
   "source": [
    "#### Computing the value of $\\theta_o $ and $\\theta_1$"
   ]
  },
  {
   "cell_type": "code",
   "execution_count": 9,
   "id": "6bf0e095",
   "metadata": {},
   "outputs": [
    {
     "name": "stdout",
     "output_type": "stream",
     "text": [
      "9449.962321455077\n",
      "25792.20019866869\n"
     ]
    }
   ],
   "source": [
    "num , denum = 0 , 0 \n",
    "\n",
    "for x , y in zip(X,Y):\n",
    "    num +=  ((x - Xmean) * (y - Ymean)) \n",
    "    denum += ( x - Xmean)**2 \n",
    "    \n",
    "theta1 = num / denum\n",
    "\n",
    "print(theta1)\n",
    "\n",
    "theta0 = Ymean - theta1 * Xmean\n",
    "\n",
    "print(theta0)"
   ]
  },
  {
   "cell_type": "markdown",
   "id": "9970c24d",
   "metadata": {},
   "source": [
    "### Predicting the values using the computed $\\theta_o $ and $\\theta_1$"
   ]
  },
  {
   "cell_type": "code",
   "execution_count": 11,
   "id": "a240c84c",
   "metadata": {},
   "outputs": [],
   "source": [
    "Ypred = []\n",
    "np.array(Ypred)\n",
    "for i in X:\n",
    "    y = theta0 + theta1 * i \n",
    "    Ypred.append(y) "
   ]
  },
  {
   "cell_type": "markdown",
   "id": "b8c621a4",
   "metadata": {},
   "source": [
    "### Testing the Accuracy of The Model "
   ]
  },
  {
   "cell_type": "code",
   "execution_count": 12,
   "id": "2c2e968c",
   "metadata": {},
   "outputs": [
    {
     "name": "stdout",
     "output_type": "stream",
     "text": [
      "5592.043608760662\n"
     ]
    }
   ],
   "source": [
    "mse = 0 \n",
    "for ypred , y in zip(Ypred, Y):\n",
    "    mse  += ((ypred - y)**2)/len(X)\n",
    "print(np.sqrt(mse))"
   ]
  },
  {
   "cell_type": "markdown",
   "id": "8ceeffd0",
   "metadata": {},
   "source": [
    "**This was the implementation of simple linear regression from scratch. Now lets, do the same using the sklearn library**"
   ]
  },
  {
   "cell_type": "code",
   "execution_count": 13,
   "id": "eb65b41c",
   "metadata": {},
   "outputs": [
    {
     "name": "stdout",
     "output_type": "stream",
     "text": [
      "(30, 1)\n"
     ]
    }
   ],
   "source": [
    "X = X.reshape((len(X), 1))\n",
    "print(X.shape)"
   ]
  },
  {
   "cell_type": "code",
   "execution_count": 14,
   "id": "b72bcfa1",
   "metadata": {},
   "outputs": [
    {
     "name": "stdout",
     "output_type": "stream",
     "text": [
      "R2 Score is :  0.9569566641435086\n",
      "RMSE is :  5592.043608760662\n"
     ]
    }
   ],
   "source": [
    "from sklearn.linear_model import LinearRegression\n",
    "from sklearn.metrics import mean_squared_error\n",
    "from sklearn.metrics import r2_score\n",
    "\n",
    "# Cannot use Rank 1 matrix in scikit learn\n",
    "X = X.reshape((len(X), 1))\n",
    "\n",
    "# Creating Model\n",
    "reg = LinearRegression()\n",
    "# Fitting training data\n",
    "reg = reg.fit(X,Y)\n",
    "# Y Prediction\n",
    "Y_pred = reg.predict(X)\n",
    "\n",
    "# Calculating RMSE and R2 Score\n",
    "print(\"R2 Score is : \", r2_score(Y, Y_pred))\n",
    "print(\"RMSE is : \" , np.sqrt(mean_squared_error(Y, Y_pred)))"
   ]
  },
  {
   "cell_type": "markdown",
   "id": "831e00eb",
   "metadata": {},
   "source": [
    "Tada... We did it !"
   ]
  }
 ],
 "metadata": {
  "kernelspec": {
   "display_name": "Python 3 (ipykernel)",
   "language": "python",
   "name": "python3"
  },
  "language_info": {
   "codemirror_mode": {
    "name": "ipython",
    "version": 3
   },
   "file_extension": ".py",
   "mimetype": "text/x-python",
   "name": "python",
   "nbconvert_exporter": "python",
   "pygments_lexer": "ipython3",
   "version": "3.9.7"
  }
 },
 "nbformat": 4,
 "nbformat_minor": 5
}
