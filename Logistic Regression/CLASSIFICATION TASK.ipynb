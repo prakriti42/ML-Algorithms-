{
 "cells": [
  {
   "cell_type": "markdown",
   "id": "south-youth",
   "metadata": {},
   "source": [
    "## CLASSIFICATION TASK "
   ]
  },
  {
   "cell_type": "markdown",
   "id": "secure-helmet",
   "metadata": {},
   "source": [
    "Logistic regression is a classifier model that finds the class of the dependent variable, instead of predicting a continuous value.For example : A model that detects whether an email is spam or not.\n",
    "\n",
    "Depending on the number of outcomes or the possible classes , logistic regression models are classified into two types. Those are:<b>Binary Classification and Multi class classification.</b>"
   ]
  },
  {
   "cell_type": "markdown",
   "id": "dramatic-religious",
   "metadata": {},
   "source": [
    "### Multi-class Logistic Regression with Scikit-Learn "
   ]
  },
  {
   "cell_type": "markdown",
   "id": "indoor-pantyhose",
   "metadata": {},
   "source": [
    "Below is a Logistic Regression model created to classify a password as Strong , Medium or Weak using the attributes such as its length , usage of numerics and alphabets , vowels and consonants.The implementaion uses two of the python libraries that are \n",
    "* Pandas\n",
    "* Sci-kit Learn\n"
   ]
  },
  {
   "cell_type": "code",
   "execution_count": 1,
   "id": "emotional-reader",
   "metadata": {},
   "outputs": [],
   "source": [
    "import pandas as pd"
   ]
  },
  {
   "cell_type": "code",
   "execution_count": 2,
   "id": "foreign-system",
   "metadata": {},
   "outputs": [],
   "source": [
    "#loading the dataset\n",
    "df= pd.read_csv(\"SamplePasswords.csv\",error_bad_lines = False, warn_bad_lines=False) #filtering badlines from the dataset to prevent ParserErrordata = pd.read_csv(\"\",error_bad_lines = False, warn_bad_lines=False) #filtering badlines from the dataset to prevent ParserError"
   ]
  },
  {
   "cell_type": "code",
   "execution_count": 3,
   "id": "packed-movement",
   "metadata": {},
   "outputs": [],
   "source": [
    "#Dropping the rows with nan values\n",
    "data = df.dropna()"
   ]
  },
  {
   "cell_type": "code",
   "execution_count": 4,
   "id": "fancy-reggae",
   "metadata": {},
   "outputs": [
    {
     "data": {
      "text/html": [
       "<div>\n",
       "<style scoped>\n",
       "    .dataframe tbody tr th:only-of-type {\n",
       "        vertical-align: middle;\n",
       "    }\n",
       "\n",
       "    .dataframe tbody tr th {\n",
       "        vertical-align: top;\n",
       "    }\n",
       "\n",
       "    .dataframe thead th {\n",
       "        text-align: right;\n",
       "    }\n",
       "</style>\n",
       "<table border=\"1\" class=\"dataframe\">\n",
       "  <thead>\n",
       "    <tr style=\"text-align: right;\">\n",
       "      <th></th>\n",
       "      <th>password</th>\n",
       "      <th>strength</th>\n",
       "    </tr>\n",
       "  </thead>\n",
       "  <tbody>\n",
       "    <tr>\n",
       "      <th>739</th>\n",
       "      <td>000martin</td>\n",
       "      <td>1</td>\n",
       "    </tr>\n",
       "    <tr>\n",
       "      <th>740</th>\n",
       "      <td>a1233210</td>\n",
       "      <td>1</td>\n",
       "    </tr>\n",
       "    <tr>\n",
       "      <th>741</th>\n",
       "      <td>zoblin80</td>\n",
       "      <td>1</td>\n",
       "    </tr>\n",
       "    <tr>\n",
       "      <th>742</th>\n",
       "      <td>sqsn7a9</td>\n",
       "      <td>0</td>\n",
       "    </tr>\n",
       "    <tr>\n",
       "      <th>743</th>\n",
       "      <td>0123one47</td>\n",
       "      <td>1</td>\n",
       "    </tr>\n",
       "  </tbody>\n",
       "</table>\n",
       "</div>"
      ],
      "text/plain": [
       "      password  strength\n",
       "739  000martin         1\n",
       "740   a1233210         1\n",
       "741   zoblin80         1\n",
       "742    sqsn7a9         0\n",
       "743  0123one47         1"
      ]
     },
     "execution_count": 4,
     "metadata": {},
     "output_type": "execute_result"
    }
   ],
   "source": [
    "#Previewing the Dataset\n",
    "data.tail()"
   ]
  },
  {
   "cell_type": "markdown",
   "id": "conditional-color",
   "metadata": {},
   "source": [
    "#### Identifying the classes of the Classifier "
   ]
  },
  {
   "cell_type": "code",
   "execution_count": 5,
   "id": "framed-shield",
   "metadata": {},
   "outputs": [],
   "source": [
    "#Adding label to the different classes\n",
    "Strong = data[data.strength==2]\n",
    "Medium = data[data.strength==1]\n",
    "Weak = data[data.strength==0]\n"
   ]
  },
  {
   "cell_type": "markdown",
   "id": "handed-delivery",
   "metadata": {},
   "source": [
    "### A Bar Plot Representating the available classes"
   ]
  },
  {
   "cell_type": "code",
   "execution_count": 6,
   "id": "handy-marine",
   "metadata": {},
   "outputs": [
    {
     "data": {
      "image/png": "[encoded data removed]",
      "text/plain": [
       "<Figure size 432x288 with 1 Axes>"
      ]
     },
     "metadata": {
      "needs_background": "light"
     },
     "output_type": "display_data"
    }
   ],
   "source": [
    "#Plotting the bar plot to view the number of distinct classes in the dataset\n",
    "barplot = data[\"strength\"].value_counts().plot.bar()"
   ]
  },
  {
   "cell_type": "markdown",
   "id": "sound-schedule",
   "metadata": {},
   "source": [
    "* From the above plotted bar graph we can analyze that the dataset contains most of the passwords that classify themselves as medium "
   ]
  },
  {
   "cell_type": "markdown",
   "id": "empty-thought",
   "metadata": {},
   "source": [
    "### Adding independent columns to the dataset"
   ]
  },
  {
   "cell_type": "markdown",
   "id": "sapphire-people",
   "metadata": {},
   "source": [
    "* In order to provide more feature variables to the Logistic Regression model , the passwords have been evaluated depending on various attributes such as its length , the total count of numbers and alphabets used and the overall presence of vowels and consonants.All these attributes of each password has been mesaured and stored into distinct and new columns in the dataframe. "
   ]
  },
  {
   "cell_type": "code",
   "execution_count": 7,
   "id": "major-aspect",
   "metadata": {},
   "outputs": [],
   "source": [
    "\n",
    "data['length'] = data['password'].str.len() #Finding length of the character\n",
    "\n",
    "data['Total Numerics Used'] = data['password'].apply( #Lambda function to count the total numbers present in the password. \n",
    "        lambda x: len([str(x) for x in str(x) if x.isdigit()])) \n",
    "\n",
    "data['Total Alphabetics Used'] = data['password'].apply( #Likewise,lambda function to count the total alphabets present in the password.\n",
    "        lambda x: len([x for x in str(x) if x.isalpha()])) \n",
    "\n",
    "vowels=['a','e','i','o','u']\n",
    "\n",
    "data['Vowels'] = data['password'].apply(lambda x: len([x for x in str(x) if x in vowels])) #lambda function to count the presence of vowel characters\n",
    "\n",
    "data['Consonants'] = data['password'].apply(lambda x: len([x for x in str(x) if x not in vowels and x.isalpha()])) #lambda function to count the presence of consonant characters"
   ]
  },
  {
   "cell_type": "code",
   "execution_count": 8,
   "id": "practical-choir",
   "metadata": {},
   "outputs": [
    {
     "data": {
      "text/html": [
       "<div>\n",
       "<style scoped>\n",
       "    .dataframe tbody tr th:only-of-type {\n",
       "        vertical-align: middle;\n",
       "    }\n",
       "\n",
       "    .dataframe tbody tr th {\n",
       "        vertical-align: top;\n",
       "    }\n",
       "\n",
       "    .dataframe thead th {\n",
       "        text-align: right;\n",
       "    }\n",
       "</style>\n",
       "<table border=\"1\" class=\"dataframe\">\n",
       "  <thead>\n",
       "    <tr style=\"text-align: right;\">\n",
       "      <th></th>\n",
       "      <th>password</th>\n",
       "      <th>strength</th>\n",
       "      <th>length</th>\n",
       "      <th>Total Numerics Used</th>\n",
       "      <th>Total Alphabetics Used</th>\n",
       "      <th>Vowels</th>\n",
       "      <th>Consonants</th>\n",
       "    </tr>\n",
       "  </thead>\n",
       "  <tbody>\n",
       "    <tr>\n",
       "      <th>0</th>\n",
       "      <td>AVYq1lDE4MgAZfNt</td>\n",
       "      <td>2</td>\n",
       "      <td>16</td>\n",
       "      <td>2</td>\n",
       "      <td>14</td>\n",
       "      <td>0</td>\n",
       "      <td>14</td>\n",
       "    </tr>\n",
       "    <tr>\n",
       "      <th>1</th>\n",
       "      <td>u6c8vhow</td>\n",
       "      <td>1</td>\n",
       "      <td>8</td>\n",
       "      <td>2</td>\n",
       "      <td>6</td>\n",
       "      <td>2</td>\n",
       "      <td>4</td>\n",
       "    </tr>\n",
       "    <tr>\n",
       "      <th>2</th>\n",
       "      <td>v1118714</td>\n",
       "      <td>1</td>\n",
       "      <td>8</td>\n",
       "      <td>7</td>\n",
       "      <td>1</td>\n",
       "      <td>0</td>\n",
       "      <td>1</td>\n",
       "    </tr>\n",
       "    <tr>\n",
       "      <th>3</th>\n",
       "      <td>universe2908</td>\n",
       "      <td>1</td>\n",
       "      <td>12</td>\n",
       "      <td>4</td>\n",
       "      <td>8</td>\n",
       "      <td>4</td>\n",
       "      <td>4</td>\n",
       "    </tr>\n",
       "    <tr>\n",
       "      <th>4</th>\n",
       "      <td>as326159</td>\n",
       "      <td>1</td>\n",
       "      <td>8</td>\n",
       "      <td>6</td>\n",
       "      <td>2</td>\n",
       "      <td>1</td>\n",
       "      <td>1</td>\n",
       "    </tr>\n",
       "  </tbody>\n",
       "</table>\n",
       "</div>"
      ],
      "text/plain": [
       "           password  strength  length  Total Numerics Used  \\\n",
       "0  AVYq1lDE4MgAZfNt         2      16                    2   \n",
       "1          u6c8vhow         1       8                    2   \n",
       "2          v1118714         1       8                    7   \n",
       "3      universe2908         1      12                    4   \n",
       "4          as326159         1       8                    6   \n",
       "\n",
       "   Total Alphabetics Used  Vowels  Consonants  \n",
       "0                      14       0          14  \n",
       "1                       6       2           4  \n",
       "2                       1       0           1  \n",
       "3                       8       4           4  \n",
       "4                       2       1           1  "
      ]
     },
     "execution_count": 8,
     "metadata": {},
     "output_type": "execute_result"
    }
   ],
   "source": [
    "#Previewing the newly formed dataset\n",
    "data.head()"
   ]
  },
  {
   "cell_type": "markdown",
   "id": "pressing-grove",
   "metadata": {},
   "source": [
    "* Now , the distinguishly produced independent variables will be further used for classication of the password based on a multi-class Logistic Regression Model."
   ]
  },
  {
   "cell_type": "markdown",
   "id": "decreased-hotel",
   "metadata": {},
   "source": [
    "### Average of the classes for all cloumns"
   ]
  },
  {
   "cell_type": "code",
   "execution_count": 9,
   "id": "executed-terror",
   "metadata": {},
   "outputs": [
    {
     "data": {
      "text/html": [
       "<div>\n",
       "<style scoped>\n",
       "    .dataframe tbody tr th:only-of-type {\n",
       "        vertical-align: middle;\n",
       "    }\n",
       "\n",
       "    .dataframe tbody tr th {\n",
       "        vertical-align: top;\n",
       "    }\n",
       "\n",
       "    .dataframe thead th {\n",
       "        text-align: right;\n",
       "    }\n",
       "</style>\n",
       "<table border=\"1\" class=\"dataframe\">\n",
       "  <thead>\n",
       "    <tr style=\"text-align: right;\">\n",
       "      <th></th>\n",
       "      <th>length</th>\n",
       "      <th>Total Numerics Used</th>\n",
       "      <th>Total Alphabetics Used</th>\n",
       "      <th>Vowels</th>\n",
       "      <th>Consonants</th>\n",
       "    </tr>\n",
       "    <tr>\n",
       "      <th>strength</th>\n",
       "      <th></th>\n",
       "      <th></th>\n",
       "      <th></th>\n",
       "      <th></th>\n",
       "      <th></th>\n",
       "    </tr>\n",
       "  </thead>\n",
       "  <tbody>\n",
       "    <tr>\n",
       "      <th>0</th>\n",
       "      <td>6.629630</td>\n",
       "      <td>1.740741</td>\n",
       "      <td>4.870370</td>\n",
       "      <td>1.555556</td>\n",
       "      <td>3.314815</td>\n",
       "    </tr>\n",
       "    <tr>\n",
       "      <th>1</th>\n",
       "      <td>9.613430</td>\n",
       "      <td>3.395644</td>\n",
       "      <td>6.208711</td>\n",
       "      <td>2.226860</td>\n",
       "      <td>3.981851</td>\n",
       "    </tr>\n",
       "    <tr>\n",
       "      <th>2</th>\n",
       "      <td>16.188235</td>\n",
       "      <td>3.376471</td>\n",
       "      <td>12.552941</td>\n",
       "      <td>1.741176</td>\n",
       "      <td>10.811765</td>\n",
       "    </tr>\n",
       "  </tbody>\n",
       "</table>\n",
       "</div>"
      ],
      "text/plain": [
       "             length  Total Numerics Used  Total Alphabetics Used    Vowels  \\\n",
       "strength                                                                     \n",
       "0          6.629630             1.740741                4.870370  1.555556   \n",
       "1          9.613430             3.395644                6.208711  2.226860   \n",
       "2         16.188235             3.376471               12.552941  1.741176   \n",
       "\n",
       "          Consonants  \n",
       "strength              \n",
       "0           3.314815  \n",
       "1           3.981851  \n",
       "2          10.811765  "
      ]
     },
     "execution_count": 9,
     "metadata": {},
     "output_type": "execute_result"
    }
   ],
   "source": [
    "data.groupby('strength').mean()"
   ]
  },
  {
   "cell_type": "markdown",
   "id": "republican-martin",
   "metadata": {},
   "source": [
    "#### Data Pre-Processing \n",
    "* As the password column consists of string data which is an unfit datatype for the machine learning alogrithm they are converted into mavhine readable data character by charcter using a custom tokenizer function and the TfidfVectorizer algorithm form sklearn"
   ]
  },
  {
   "cell_type": "code",
   "execution_count": 12,
   "id": "tutorial-privilege",
   "metadata": {},
   "outputs": [],
   "source": [
    "## Using TF-IDF algorithm for the Password Column \n",
    "def character(input): #custom tokenizer to split into charcater tokens\n",
    "    char=[]\n",
    "    for i in input:\n",
    "        char.append(i)\n",
    "    return char \n",
    "\n",
    "from sklearn.feature_extraction.text import TfidfVectorizer\n",
    "\n",
    "passwords = character(data['password'])  #tokenizing the column\n",
    "vectorize = TfidfVectorizer(tokenizer= character) #vectorizing \n",
    "passwords = vectorize.fit_transform(passwords)\n",
    "\n",
    "Pass = passwords.toarray()#changing sparse matrix to np array for compatibility\n",
    "\n",
    "data['Tokenized Password'] = Pass #adding the tokenized column to the dataset"
   ]
  },
  {
   "cell_type": "markdown",
   "id": "retired-hebrew",
   "metadata": {},
   "source": [
    "# Implementation Of Logistic Regression"
   ]
  },
  {
   "cell_type": "code",
   "execution_count": 13,
   "id": "ceramic-delhi",
   "metadata": {},
   "outputs": [],
   "source": [
    "#Customizing the DataSet\n",
    "df = data.drop(['password'], axis = 1) #dropping the string column\n",
    "df = data[['Tokenized Password' , 'length','Total Numerics Used','Vowels','Consonants']] #Aligning the dataset in the required order.\n",
    "\n",
    "X = df[:]  #data\n",
    "Y = data.iloc[ : , 1:2 ] #target"
   ]
  },
  {
   "cell_type": "code",
   "execution_count": 14,
   "id": "suited-separation",
   "metadata": {},
   "outputs": [],
   "source": [
    "from sklearn.model_selection import train_test_split\n",
    "#Spliting the dataset for training and testing\n",
    "X_train, X_test, Y_train, Y_test = train_test_split(X,Y,train_size=0.2)"
   ]
  },
  {
   "cell_type": "code",
   "execution_count": 16,
   "id": "legal-summer",
   "metadata": {},
   "outputs": [
    {
     "data": {
      "text/plain": [
       "LogisticRegression(solver='newton-cg')"
      ]
     },
     "execution_count": 16,
     "metadata": {},
     "output_type": "execute_result"
    }
   ],
   "source": [
    "from sklearn.linear_model import LogisticRegression\n",
    "#Creating the Logistic Regression Model\n",
    "\n",
    "model = LogisticRegression(solver=\"newton-cg\")  #Using the newton-cg solver to mitgate the optimization warning\n",
    "\n",
    "model.fit(X_train, Y_train.values.reshape(-1,)) #Reshaping to prevent the Dataconversion warning"
   ]
  },
  {
   "cell_type": "code",
   "execution_count": 18,
   "id": "convertible-daniel",
   "metadata": {},
   "outputs": [
    {
     "name": "stdout",
     "output_type": "stream",
     "text": [
      "[1 1 2 1 1 1 1 1 1 1 1 2 1 1 1 1 1 1 0 0 1 0 1 1 1 0 1 1 1 0 0 1 1 0 1 1 1\n",
      " 0 1 1 1 1 1 2 1 0 1 1 1 0 1 1 0 1 1 1 1 1 1 0 0 0 1 1 1 0 1 1 1 1 1 1 1 2\n",
      " 1 1 1 1 0 1 1 0 1 1 1 1 1 2 1 1 0 1 1 2 0 1 1 0 0 1 1 1 1 1 1 1 1 0 2 2 1\n",
      " 1 1 0 2 1 2 1 1 1 1 1 2 1 2 1 1 1 1 1 0 1 2 1 1 1 0 1 2 2 2 1 1 2 1 1 1 1\n",
      " 1 1 1 1 1 2 1 1 1 1 1 0 1 2 1 1 2 1 1 1 1 2 1 1 1 1 1 1 1 1 1 2 0 1 1 0 1\n",
      " 1 1 2 2 1 1 1 1 1 1 1 1 1 1 1 1 1 1 1 1 1 1 1 1 1 1 1 0 1 2 1 2 1 1 1 1 1\n",
      " 1 1 1 1 2 1 0 0 1 1 1 1 1 2 1 0 0 1 0 1 1 2 1 1 1 1 1 0 0 0 1 1 1 2 1 1 1\n",
      " 0 2 2 0 1 1 1 1 2 1 0 1 1 1 1 1 2 1 1 1 1 1 2 1 0 1 1 2 1 1 1 1 1 1 1 1 1\n",
      " 0 1 1 1 1 1 1 1 1 1 1 1 1 1 1 2 1 2 1 1 1 1 2 1 0 1 2 0 1 0 1 0 1 1 1 2 1\n",
      " 1 1 1 0 0 1 2 1 1 1 1 2 1 1 0 1 1 1 1 0 0 1 1 2 1 2 1 1 1 1 1 1 1 1 1 1 0\n",
      " 1 1 2 1 2 1 1 1 1 2 1 1 1 1 1 0 1 2 1 1 1 1 1 0 1 2 2 1 1 1 0 1 1 1 1 1 0\n",
      " 1 1 1 1 0 2 1 1 1 0 1 2 1 1 1 1 1 1 1 1 1 1 1 0 1 1 1 2 0 0 1 1 1 2 0 1 2\n",
      " 0 0 0 1 0 1 1 1 2 1 1 2 1 1 1 0 1 0 1 1 1 1 1 2 1 1 1 1 0 1 1 1 1 1 1 1 1\n",
      " 1 0 0 1 1 2 1 2 1 1 0 1 1 1 1 0 0 1 1 0 2 0 1 1 1 1 1 1 1 1 1 0 0 1 1 1 1\n",
      " 1 1 1 1 1 1 1 2 1 1 2 1 1 0 1 1 2 1 1 0 1 1 1 1 0 1 1 1 1 1 1 1 1 1 1 1 1\n",
      " 1 1 1 1 1 1 2 1 1 1 1 1 1 1 1 1 1 1 1 1 1 1 1 1 1 1 1 1 0 1 1 0 1 1 1 1 0\n",
      " 1 1 2 2]\n"
     ]
    }
   ],
   "source": [
    "#Predticing the target \n",
    "\n",
    "Y_pred = model.predict(X_test)\n",
    "print(Y_pred)"
   ]
  },
  {
   "cell_type": "markdown",
   "id": "outer-philippines",
   "metadata": {},
   "source": [
    "## Evaluation Metrics"
   ]
  },
  {
   "cell_type": "markdown",
   "id": "yellow-pottery",
   "metadata": {},
   "source": [
    "### Accuracy of the Model"
   ]
  },
  {
   "cell_type": "code",
   "execution_count": 19,
   "id": "behavioral-parliament",
   "metadata": {},
   "outputs": [
    {
     "name": "stdout",
     "output_type": "stream",
     "text": [
      "0.9932885906040269\n"
     ]
    }
   ],
   "source": [
    "print(model.score(X_test,Y_test))"
   ]
  },
  {
   "cell_type": "markdown",
   "id": "ultimate-milwaukee",
   "metadata": {},
   "source": [
    "##### Confusion Matrix"
   ]
  },
  {
   "cell_type": "code",
   "execution_count": 20,
   "id": "irish-badge",
   "metadata": {},
   "outputs": [
    {
     "data": {
      "text/plain": [
       "array([[ 84,   0,   0],\n",
       "       [  0, 441,   1],\n",
       "       [  0,   3,  67]], dtype=int64)"
      ]
     },
     "execution_count": 20,
     "metadata": {},
     "output_type": "execute_result"
    }
   ],
   "source": [
    "from sklearn.metrics import confusion_matrix \n",
    "\n",
    "confusion_matrix(Y_test , Y_pred)"
   ]
  },
  {
   "cell_type": "code",
   "execution_count": 21,
   "id": "neither-sewing",
   "metadata": {},
   "outputs": [
    {
     "name": "stdout",
     "output_type": "stream",
     "text": [
      "    0    1   2\n",
      "0  84    0   0\n",
      "1   0  441   1\n",
      "2   0    3  67\n"
     ]
    }
   ],
   "source": [
    "print(pd.DataFrame(confusion_matrix(Y_test , Y_pred),columns =['0','1','2']))"
   ]
  },
  {
   "cell_type": "markdown",
   "id": "chemical-providence",
   "metadata": {},
   "source": [
    "* In this model there are three possible classifications \"0\": Weak , 1:\"Medium\" , 3 : \"Strong\".\n",
    "* The above model made a total of 596 predictions.\n",
    "* Out of those predictions , the model classified a total of 84 passwords as Weak , 444 as Medium and 68 as Strong.\n",
    "* But , in reality there are 84 Weak , 444 Medium and 69 strong passwords.\n",
    "* Therefore , the classifier is fairly accurate."
   ]
  },
  {
   "cell_type": "code",
   "execution_count": 22,
   "id": "featured-verification",
   "metadata": {},
   "outputs": [
    {
     "name": "stdout",
     "output_type": "stream",
     "text": [
      "              precision    recall  f1-score   support\n",
      "\n",
      "           0       1.00      1.00      1.00        84\n",
      "           1       0.99      1.00      1.00       442\n",
      "           2       0.99      0.96      0.97        70\n",
      "\n",
      "    accuracy                           0.99       596\n",
      "   macro avg       0.99      0.98      0.99       596\n",
      "weighted avg       0.99      0.99      0.99       596\n",
      "\n"
     ]
    }
   ],
   "source": [
    "from sklearn.metrics import classification_report \n",
    "print(classification_report(Y_test , Y_pred))"
   ]
  },
  {
   "cell_type": "markdown",
   "id": "vocal-workstation",
   "metadata": {},
   "source": [
    "From the above printed report , we can note the various evaluation metrics of the classifier.  "
   ]
  }
 ],
 "metadata": {
  "kernelspec": {
   "display_name": "Python 3",
   "language": "python",
   "name": "python3"
  },
  "language_info": {
   "codemirror_mode": {
    "name": "ipython",
    "version": 3
   },
   "file_extension": ".py",
   "mimetype": "text/x-python",
   "name": "python",
   "nbconvert_exporter": "python",
   "pygments_lexer": "ipython3",
   "version": "3.8.5"
  }
 },
 "nbformat": 4,
 "nbformat_minor": 5
}
