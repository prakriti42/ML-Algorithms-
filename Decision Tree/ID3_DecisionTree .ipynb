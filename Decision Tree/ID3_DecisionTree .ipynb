{
 "cells": [
  {
   "cell_type": "markdown",
   "id": "2b4d5e63",
   "metadata": {},
   "source": [
    "# Bonus Task : Scratch Implementation of ID3 Algorithm"
   ]
  },
  {
   "cell_type": "markdown",
   "id": "13c2947b",
   "metadata": {},
   "source": [
    "### Importing Necesssary Libraries "
   ]
  },
  {
   "cell_type": "code",
   "execution_count": 1,
   "id": "e355e6e2",
   "metadata": {},
   "outputs": [],
   "source": [
    "import pandas as pd\n",
    "import numpy as np "
   ]
  },
  {
   "cell_type": "markdown",
   "id": "99127215",
   "metadata": {},
   "source": [
    "#### Loading The Dataset"
   ]
  },
  {
   "cell_type": "code",
   "execution_count": 3,
   "id": "c5275535-679d-42b7-9804-850350d4268b",
   "metadata": {},
   "outputs": [
    {
     "name": "stdout",
     "output_type": "stream",
     "text": [
      "File found.\n"
     ]
    }
   ],
   "source": [
    "path = \"../Datasets/play_tennis.csv\"\n",
    "try :\n",
    "    initial_train_data = pd.read_csv(path)\n",
    "    print(\"File found.\")\n",
    "except FileNotFoundError : \n",
    "    print(\"Couldnt find the file.\")\n"
   ]
  },
  {
   "cell_type": "markdown",
   "id": "17bf3d2f-b7d5-4de9-88ed-8a2590cc3ea8",
   "metadata": {},
   "source": [
    "## A look into Our Dataset"
   ]
  },
  {
   "cell_type": "code",
   "execution_count": 4,
   "id": "dddd44eb-8d68-4891-a6b9-51ca8ef0b276",
   "metadata": {},
   "outputs": [
    {
     "data": {
      "text/html": [
       "<div>\n",
       "<style scoped>\n",
       "    .dataframe tbody tr th:only-of-type {\n",
       "        vertical-align: middle;\n",
       "    }\n",
       "\n",
       "    .dataframe tbody tr th {\n",
       "        vertical-align: top;\n",
       "    }\n",
       "\n",
       "    .dataframe thead th {\n",
       "        text-align: right;\n",
       "    }\n",
       "</style>\n",
       "<table border=\"1\" class=\"dataframe\">\n",
       "  <thead>\n",
       "    <tr style=\"text-align: right;\">\n",
       "      <th></th>\n",
       "      <th>outlook</th>\n",
       "      <th>temp</th>\n",
       "      <th>humidity</th>\n",
       "      <th>wind</th>\n",
       "      <th>play</th>\n",
       "    </tr>\n",
       "  </thead>\n",
       "  <tbody>\n",
       "    <tr>\n",
       "      <th>0</th>\n",
       "      <td>Sunny</td>\n",
       "      <td>Hot</td>\n",
       "      <td>High</td>\n",
       "      <td>Weak</td>\n",
       "      <td>No</td>\n",
       "    </tr>\n",
       "    <tr>\n",
       "      <th>1</th>\n",
       "      <td>Sunny</td>\n",
       "      <td>Hot</td>\n",
       "      <td>High</td>\n",
       "      <td>Strong</td>\n",
       "      <td>No</td>\n",
       "    </tr>\n",
       "    <tr>\n",
       "      <th>2</th>\n",
       "      <td>Overcast</td>\n",
       "      <td>Hot</td>\n",
       "      <td>High</td>\n",
       "      <td>Weak</td>\n",
       "      <td>Yes</td>\n",
       "    </tr>\n",
       "    <tr>\n",
       "      <th>3</th>\n",
       "      <td>Rain</td>\n",
       "      <td>Mild</td>\n",
       "      <td>High</td>\n",
       "      <td>Weak</td>\n",
       "      <td>Yes</td>\n",
       "    </tr>\n",
       "    <tr>\n",
       "      <th>4</th>\n",
       "      <td>Rain</td>\n",
       "      <td>Cool</td>\n",
       "      <td>Normal</td>\n",
       "      <td>Weak</td>\n",
       "      <td>Yes</td>\n",
       "    </tr>\n",
       "  </tbody>\n",
       "</table>\n",
       "</div>"
      ],
      "text/plain": [
       "    outlook  temp humidity    wind play\n",
       "0     Sunny   Hot     High    Weak   No\n",
       "1     Sunny   Hot     High  Strong   No\n",
       "2  Overcast   Hot     High    Weak  Yes\n",
       "3      Rain  Mild     High    Weak  Yes\n",
       "4      Rain  Cool   Normal    Weak  Yes"
      ]
     },
     "execution_count": 4,
     "metadata": {},
     "output_type": "execute_result"
    }
   ],
   "source": [
    "initial_train_data.head()"
   ]
  },
  {
   "cell_type": "markdown",
   "id": "292548c6-df5e-4d99-8b09-fbd7262c3c4c",
   "metadata": {},
   "source": [
    "> **As per the observation of the dataset, we know that : <br>\n",
    "  Features of the Dataset are : outlook , temp , humidity , wind <br>\n",
    "  Classes : Yes or No <br>\n",
    "  Class Label : Play**\n",
    "  "
   ]
  },
  {
   "cell_type": "markdown",
   "id": "b6c9d1f4-7910-42cd-9740-91c442a1b4ec",
   "metadata": {},
   "source": [
    "### Calculating The Entropy of The Whole Dataset "
   ]
  },
  {
   "cell_type": "code",
   "execution_count": 32,
   "id": "a1d3b86a-378b-4d0c-8352-b9a12d3c9871",
   "metadata": {},
   "outputs": [],
   "source": [
    "def totalEntropy(data , label , classes):\n",
    "    noOfClasses = data.shape[0]\n",
    "    totalentropy = 0\n",
    "    \n",
    "    for i in classes : \n",
    "        totalClasses = data[data[label] == i].shape[0]\n",
    "        print(\"Total Classes is \" , str(totalClasses))\n",
    "        totalClassEntropy = -(totalClasses/noOfClasses) * np.log2(totalClasses / noOfClasses)\n",
    "        totalentropy += totalClassEntropy  \n",
    "        \n",
    "    return totalentropy"
   ]
  },
  {
   "cell_type": "code",
   "execution_count": 33,
   "id": "35efcd18",
   "metadata": {},
   "outputs": [
    {
     "name": "stdout",
     "output_type": "stream",
     "text": [
      "Empty DataFrame\n",
      "Columns: [outlook, temp, humidity, wind, play]\n",
      "Index: []\n",
      "Empty DataFrame\n",
      "Columns: [outlook, temp, humidity, wind, play]\n",
      "Index: []\n",
      "Empty DataFrame\n",
      "Columns: [outlook, temp, humidity, wind, play]\n",
      "Index: []\n",
      "Empty DataFrame\n",
      "Columns: [outlook, temp, humidity, wind, play]\n",
      "Index: []\n",
      "Empty DataFrame\n",
      "Columns: [outlook, temp, humidity, wind, play]\n",
      "Index: []\n",
      "Empty DataFrame\n",
      "Columns: [outlook, temp, humidity, wind, play]\n",
      "Index: []\n",
      "Empty DataFrame\n",
      "Columns: [outlook, temp, humidity, wind, play]\n",
      "Index: []\n",
      "Empty DataFrame\n",
      "Columns: [outlook, temp, humidity, wind, play]\n",
      "Index: []\n",
      "Empty DataFrame\n",
      "Columns: [outlook, temp, humidity, wind, play]\n",
      "Index: []\n",
      "Empty DataFrame\n",
      "Columns: [outlook, temp, humidity, wind, play]\n",
      "Index: []\n"
     ]
    }
   ],
   "source": []
  },
  {
   "cell_type": "markdown",
   "id": "eeda9546-0523-4222-80d6-2e2053346c58",
   "metadata": {},
   "source": [
    "### Computing the Entropy for the Feature"
   ]
  },
  {
   "cell_type": "code",
   "execution_count": 34,
   "id": "e34c5249-98ff-428b-8988-a4c10aeb574e",
   "metadata": {},
   "outputs": [],
   "source": [
    "def calculateEntropy(featureValueData , label , classes):\n",
    "    noOfclasses = featureValueData.shape[0]\n",
    "    entropy = 0 \n",
    "    \n",
    "    for i in classes : \n",
    "        '''Row count of the Class'''\n",
    "        classLabelCount = featureValueData[featureValueData[label] == i].shape[0]\n",
    "        classEntropy = 0 \n",
    "        if classLabelCount != 0 :\n",
    "            ProbabilityOfClass = classLabelCount / noOfclasses\n",
    "            classEntropy = - ProbabilityOfClass * np.log2(ProbabilityOfClass)\n",
    "        entropy += classEntropy\n",
    "        \n",
    "    return entropy \n",
    "            "
   ]
  },
  {
   "cell_type": "markdown",
   "id": "a9dc2354-7a85-448b-9a60-a25ea0ffc1af",
   "metadata": {},
   "source": [
    "#### Computing Information Gain For the Features "
   ]
  },
  {
   "cell_type": "code",
   "execution_count": 35,
   "id": "3750c2c9-c449-4f47-8818-2b63edfbef6a",
   "metadata": {},
   "outputs": [],
   "source": [
    "def InformationGain(feature , train_data , label , classes):\n",
    "    featureValues = train_data[feature].unique()\n",
    "    TotalRow = train_data.shape[0]\n",
    "    informationContent = 0.0 \n",
    "    for value in featureValues:\n",
    "        '''Filtering rows with that feature value'''\n",
    "        featureValueData = train_data[train_data[feature] == value] \n",
    "        featureValueCount = featureValueData.shape[0]\n",
    "        '''Computing Entropy for that Feature Value'''\n",
    "        featureValueEntropy = calculateEntropy(featureValueData , label , classes)\n",
    "        # print(featureValueEntropy)\n",
    "        featureValueProbability = featureValueCount/ TotalRow\n",
    "        '''Computing Information Content of the Feature'''\n",
    "        informationContent += featureValueProbability * featureValueEntropy\n",
    "       # print(f\"Information Gain of {value} is { calculateEntropy(featureValueData , 'play' , classes)}\")\n",
    "        '''Returning the Information Gain'''    \n",
    "    print(f\"The Total Entropy of feature {feature} is {totalEntropy(train_data , label , classes) - informationContent}\")\n",
    "    return totalEntropy(train_data , label , classes) - informationContent "
   ]
  },
  {
   "cell_type": "markdown",
   "id": "be6ea9b6-6151-46bd-8e11-06e46f27c0e7",
   "metadata": {},
   "source": [
    "#### Finding The Feature With Maximum Information Gain"
   ]
  },
  {
   "cell_type": "code",
   "execution_count": 36,
   "id": "57507770-a5c0-415e-83f8-f1af865ea742",
   "metadata": {},
   "outputs": [],
   "source": [
    "\n",
    "maximumInformationFeature = None\n",
    "\n",
    "def MaximumInformationGain (train_data , label , classes):\n",
    "    features = train_data.columns.drop(label)\n",
    "    maximumInformationGain = 0\n",
    "    maximumInformationFeature = None\n",
    "   # print(f\"Maximum Information Gain is {maximumInformationGain}\")\n",
    "    for feature in features :\n",
    "        featureInformationGain = InformationGain(feature , train_data , label , classes)\n",
    "       # print(f\"The Feature Information gain for {feature} is {featureInformationGain}\"))\n",
    "        if  maximumInformationGain < featureInformationGain :\n",
    "            maximumInformationGain = featureInformationGain\n",
    "            maximumInformationFeature = feature \n",
    "    print(f\"----The Maximum Information Feature is {maximumInformationFeature} and gain is {maximumInformationFeature}\")\n",
    "    return maximumInformationFeature        "
   ]
  },
  {
   "cell_type": "markdown",
   "id": "608f36cb-d240-4967-9639-5a58852126bf",
   "metadata": {},
   "source": [
    "### Building Tree By Adding Nodes "
   ]
  },
  {
   "cell_type": "code",
   "execution_count": 37,
   "id": "cc9a76d1-2685-43e2-a537-7c78498a1583",
   "metadata": {},
   "outputs": [],
   "source": [
    "def addNode(featureName , train_data , label , classes):\n",
    "    featureValueCount = train_data[featureName].value_counts(sort= False)\n",
    "    Tree = {}\n",
    "    \n",
    "    for featureValue , count in featureValueCount.iteritems():\n",
    "       # print(featureValue , count)\n",
    "        featureValueData = train_data[train_data[featureName] == featureValue]\n",
    "        \n",
    "        assignmentCheck = False \n",
    "        \n",
    "        for c in classes : \n",
    "            classCount = featureValueData[featureValueData[label] == c].shape[0]\n",
    "            \n",
    "            if classCount == count :\n",
    "                Tree[featureValue] = c \n",
    "                train_data = train_data[train_data[featureName] != featureValue]\n",
    "                assignmentCheck = True \n",
    "                \n",
    "        if not assignmentCheck : \n",
    "            Tree[featureValue] = \"?\"\n",
    "    return Tree , train_data "
   ]
  },
  {
   "cell_type": "markdown",
   "id": "70a1bf25-fd25-4a3c-9ebd-edfe5b8a5bc6",
   "metadata": {},
   "source": [
    "#### Generating Tree With ID3 Algorithm "
   ]
  },
  {
   "cell_type": "code",
   "execution_count": 38,
   "id": "116d0182-fecb-47a1-9d6e-60a3146e1366",
   "metadata": {},
   "outputs": [],
   "source": [
    "def makeTree(root , previousFeatureValue , train_data , label , classes):\n",
    "    if train_data.shape[0] != 0 :\n",
    "        rootFeature = MaximumInformationGain (train_data , label , classes)\n",
    "        Tree , train_data = addNode(rootFeature , train_data , label , classes)\n",
    "        nextRoot = None \n",
    "        \n",
    "    if previousFeatureValue != None :\n",
    "        root[previousFeatureValue] = dict()\n",
    "        root[previousFeatureValue][rootFeature] = Tree \n",
    "        nextRoot = root[previousFeatureValue][rootFeature]\n",
    "    else :\n",
    "        root[rootFeature] = Tree \n",
    "        nextRoot = root[rootFeature]\n",
    "        \n",
    "    print(f\"Next root {nextRoot}\")    \n",
    "    for node, branch in list(nextRoot.items()):\n",
    "        print(\"Node is \" , node)\n",
    "        if branch == \"?\" : \n",
    "            featureValueData = train_data[train_data[rootFeature] == node]\n",
    "            makeTree(nextRoot , node , featureValueData , label , classes)"
   ]
  },
  {
   "cell_type": "markdown",
   "id": "0045cc9e-bdd9-4e5d-a059-74b786506076",
   "metadata": {},
   "source": [
    "### Finding Unique Class Label and Implementing The Algorithm"
   ]
  },
  {
   "cell_type": "code",
   "execution_count": 39,
   "id": "22b7991d-19dc-4cfb-b14e-96a9b6824ecf",
   "metadata": {},
   "outputs": [],
   "source": [
    "def ID3(initial_train_data , label):\n",
    "    train_data = initial_train_data.copy()\n",
    "    Tree = {}\n",
    "    classes = train_data[label].unique()\n",
    "    makeTree(Tree , None , train_data , label , classes)\n",
    "    return Tree"
   ]
  },
  {
   "cell_type": "markdown",
   "id": "24f12234-ed1f-4213-9910-b63338374a5a",
   "metadata": {},
   "source": [
    "#### Implementing the Algorithm for the Dataset In Hand "
   ]
  },
  {
   "cell_type": "code",
   "execution_count": 40,
   "id": "d0f02439-d3c1-4b7f-8de0-535228bb7fb7",
   "metadata": {},
   "outputs": [
    {
     "name": "stdout",
     "output_type": "stream",
     "text": [
      "Total Classes is  5\n",
      "Total Classes is  9\n",
      "The Total Entropy of feature outlook is 0.24674981977443933\n",
      "Total Classes is  5\n",
      "Total Classes is  9\n",
      "Total Classes is  5\n",
      "Total Classes is  9\n",
      "The Total Entropy of feature temp is 0.02922256565895487\n",
      "Total Classes is  5\n",
      "Total Classes is  9\n",
      "Total Classes is  5\n",
      "Total Classes is  9\n",
      "The Total Entropy of feature humidity is 0.15183550136234159\n",
      "Total Classes is  5\n",
      "Total Classes is  9\n",
      "Total Classes is  5\n",
      "Total Classes is  9\n",
      "The Total Entropy of feature wind is 0.04812703040826949\n",
      "Total Classes is  5\n",
      "Total Classes is  9\n",
      "----The Maximum Information Feature is outlook and gain is outlook\n",
      "Next root {'Sunny': '?', 'Overcast': 'Yes', 'Rain': '?'}\n",
      "Node is  Sunny\n",
      "Total Classes is  3\n",
      "Total Classes is  2\n",
      "The Total Entropy of feature outlook is 0.0\n",
      "Total Classes is  3\n",
      "Total Classes is  2\n",
      "Total Classes is  3\n",
      "Total Classes is  2\n",
      "The Total Entropy of feature temp is 0.5709505944546686\n",
      "Total Classes is  3\n",
      "Total Classes is  2\n",
      "Total Classes is  3\n",
      "Total Classes is  2\n",
      "The Total Entropy of feature humidity is 0.9709505944546686\n",
      "Total Classes is  3\n",
      "Total Classes is  2\n",
      "Total Classes is  3\n",
      "Total Classes is  2\n",
      "The Total Entropy of feature wind is 0.01997309402197489\n",
      "Total Classes is  3\n",
      "Total Classes is  2\n",
      "----The Maximum Information Feature is humidity and gain is humidity\n",
      "Next root {'High': 'No', 'Normal': 'Yes'}\n",
      "Node is  High\n",
      "Node is  Normal\n",
      "Node is  Overcast\n",
      "Node is  Rain\n",
      "Total Classes is  2\n",
      "Total Classes is  3\n",
      "The Total Entropy of feature outlook is 0.0\n",
      "Total Classes is  2\n",
      "Total Classes is  3\n",
      "Total Classes is  2\n",
      "Total Classes is  3\n",
      "The Total Entropy of feature temp is 0.01997309402197489\n",
      "Total Classes is  2\n",
      "Total Classes is  3\n",
      "Total Classes is  2\n",
      "Total Classes is  3\n",
      "The Total Entropy of feature humidity is 0.01997309402197489\n",
      "Total Classes is  2\n",
      "Total Classes is  3\n",
      "Total Classes is  2\n",
      "Total Classes is  3\n",
      "The Total Entropy of feature wind is 0.9709505944546686\n",
      "Total Classes is  2\n",
      "Total Classes is  3\n",
      "----The Maximum Information Feature is wind and gain is wind\n",
      "Next root {'Weak': 'Yes', 'Strong': 'No'}\n",
      "Node is  Weak\n",
      "Node is  Strong\n"
     ]
    }
   ],
   "source": [
    "theTree = ID3(initial_train_data , 'play')"
   ]
  },
  {
   "cell_type": "markdown",
   "id": "70409bb4-4dad-4e47-b90d-42990508b36f",
   "metadata": {},
   "source": [
    "### The Output Treee is "
   ]
  },
  {
   "cell_type": "code",
   "execution_count": 12,
   "id": "f2fd73aa-4a09-481f-8067-fadac29f8315",
   "metadata": {},
   "outputs": [
    {
     "name": "stdout",
     "output_type": "stream",
     "text": [
      "Outlook\n",
      "├── Sunny\n",
      "│   └── Humidity\n",
      "│       ├── High\n",
      "│       │   └── No\n",
      "│       └── Normal\n",
      "│           └── Yes\n",
      "├── Overcast\n",
      "│   └── Yes\n",
      "└── Rain\n",
      "    └── wind\n",
      "        ├── Weak\n",
      "        │   └── Yes\n",
      "        └── Strong\n",
      "            └── No\n"
     ]
    }
   ],
   "source": [
    "from anytree import Node, RenderTree\n",
    "\n",
    "root = Node('Outlook')\n",
    "\n",
    "level_1_child_1 = Node('Sunny', parent=root)\n",
    "level_1_child_2 = Node('Overcast', parent=root)\n",
    "level_2_child_1 = Node('Humidity', parent=level_1_child_1)\n",
    "level_3_child_1 = Node('High', parent=level_2_child_1)\n",
    "level_4_child_1 = Node('No', parent=level_3_child_1)\n",
    "\n",
    "level_3_child_2 = Node('Normal', parent=level_2_child_1)\n",
    "level_4_child_2 = Node('Yes', parent=level_3_child_2)\n",
    "level_2_child_2 = Node('Yes', parent=level_1_child_2)\n",
    "\n",
    "\n",
    "level_1_child_3 = Node('Rain' , parent = root )\n",
    "level_2_child_3 = Node('wind' , parent = level_1_child_3  )\n",
    "level_3_child_3 = Node('Weak' , parent = level_2_child_3  )\n",
    "level_4_child_3 = Node('Yes' , parent = level_3_child_3  )\n",
    "level_3_child_4 = Node('Strong' , parent = level_2_child_3  )\n",
    "level_4_child_4 = Node('No' , parent =  level_3_child_4 )\n",
    "for pre, fill, node in RenderTree(root):\n",
    "    print(\"%s%s\" % (pre, node.name))\n",
    "\n"
   ]
  },
  {
   "cell_type": "markdown",
   "id": "aa09f183-e2e5-4783-a95c-1ca266775e38",
   "metadata": {
    "tags": []
   },
   "source": []
  }
 ],
 "metadata": {
  "kernelspec": {
   "display_name": "Python 3 (ipykernel)",
   "language": "python",
   "name": "python3"
  },
  "language_info": {
   "codemirror_mode": {
    "name": "ipython",
    "version": 3
   },
   "file_extension": ".py",
   "mimetype": "text/x-python",
   "name": "python",
   "nbconvert_exporter": "python",
   "pygments_lexer": "ipython3",
   "version": "3.9.7"
  }
 },
 "nbformat": 4,
 "nbformat_minor": 5
}
